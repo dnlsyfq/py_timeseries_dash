{
 "cells": [
  {
   "cell_type": "code",
   "execution_count": 3,
   "id": "4de55f33",
   "metadata": {},
   "outputs": [],
   "source": [
    "# !python -m pip install dash"
   ]
  },
  {
   "cell_type": "code",
   "execution_count": 17,
   "id": "9aef0634",
   "metadata": {},
   "outputs": [],
   "source": [
    "import dash\n",
    "import plotly.graph_objs as go\n",
    "\n",
    "# import dash_core_component as dcc\n",
    "# import dash_html_components as html\n",
    "\n",
    "from dash import dcc\n",
    "from dash import html\n",
    "import pandas as pd\n",
    "import numpy as np"
   ]
  },
  {
   "cell_type": "code",
   "execution_count": 13,
   "id": "59d8e619",
   "metadata": {},
   "outputs": [],
   "source": [
    "app = dash.Dash()"
   ]
  },
  {
   "cell_type": "code",
   "execution_count": 14,
   "id": "02a421dc",
   "metadata": {},
   "outputs": [],
   "source": [
    "np.random.seed(50)"
   ]
  },
  {
   "cell_type": "code",
   "execution_count": 15,
   "id": "16e36ef7",
   "metadata": {},
   "outputs": [],
   "source": [
    "x_rand = np.random.randint(1,61,60)\n",
    "y_rand = np.random.randint(1,61,60)"
   ]
  },
  {
   "cell_type": "code",
   "execution_count": 21,
   "id": "c032de61",
   "metadata": {},
   "outputs": [],
   "source": [
    "app.layout = html.Div([\n",
    "    dcc.Graph(\n",
    "        id=\"scatter_chart\",\n",
    "        figure={\n",
    "            'data':[\n",
    "                go.Scatter(\n",
    "                    x = x_rand,\n",
    "                    y = y_rand,\n",
    "                    mode = \"markers\"\n",
    "                )\n",
    "            ],\n",
    "            'layout': go.Layout(\n",
    "                title=\"Scatterplot of Random 60 points\",\n",
    "                xaxis={'title':'Random X Values'},\n",
    "                yaxis={'title':'Random Y Values'},\n",
    "                hovermode=\"closest\"\n",
    "            )\n",
    "        }\n",
    "    )\n",
    "])"
   ]
  },
  {
   "cell_type": "code",
   "execution_count": 20,
   "id": "e0a7876e",
   "metadata": {},
   "outputs": [
    {
     "name": "stdout",
     "output_type": "stream",
     "text": [
      "Dash is running on http://127.0.0.1:8050/\n",
      "\n",
      "Dash is running on http://127.0.0.1:8050/\n",
      "\n",
      "Dash is running on http://127.0.0.1:8050/\n",
      "\n",
      " * Serving Flask app '__main__' (lazy loading)\n",
      " * Environment: production\n",
      "\u001b[31m   WARNING: This is a development server. Do not use it in a production deployment.\u001b[0m\n",
      "\u001b[2m   Use a production WSGI server instead.\u001b[0m\n",
      " * Debug mode: off\n"
     ]
    },
    {
     "name": "stderr",
     "output_type": "stream",
     "text": [
      " * Running on http://127.0.0.1:8050/ (Press CTRL+C to quit)\n",
      "127.0.0.1 - - [31/Jan/2023 01:14:33] \"GET / HTTP/1.1\" 200 -\n",
      "127.0.0.1 - - [31/Jan/2023 01:14:34] \"GET /_dash-layout HTTP/1.1\" 200 -\n",
      "127.0.0.1 - - [31/Jan/2023 01:14:34] \"GET /_dash-dependencies HTTP/1.1\" 200 -\n",
      "127.0.0.1 - - [31/Jan/2023 01:14:34] \"GET /_dash-component-suites/dash/dcc/async-graph.js HTTP/1.1\" 200 -\n",
      "127.0.0.1 - - [31/Jan/2023 01:14:34] \"GET /_dash-component-suites/dash/dcc/async-plotlyjs.js HTTP/1.1\" 200 -\n"
     ]
    }
   ],
   "source": [
    "if __name__ == \"__main__\":\n",
    "    app.run_server()"
   ]
  },
  {
   "cell_type": "code",
   "execution_count": null,
   "id": "7c4e4a99",
   "metadata": {},
   "outputs": [],
   "source": []
  }
 ],
 "metadata": {
  "kernelspec": {
   "display_name": "Python 3 (ipykernel)",
   "language": "python",
   "name": "python3"
  },
  "language_info": {
   "codemirror_mode": {
    "name": "ipython",
    "version": 3
   },
   "file_extension": ".py",
   "mimetype": "text/x-python",
   "name": "python",
   "nbconvert_exporter": "python",
   "pygments_lexer": "ipython3",
   "version": "3.9.4"
  }
 },
 "nbformat": 4,
 "nbformat_minor": 5
}
